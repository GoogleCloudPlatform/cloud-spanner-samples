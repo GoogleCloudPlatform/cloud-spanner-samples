{
  "nbformat": 4,
  "nbformat_minor": 0,
  "metadata": {
    "colab": {
      "provenance": []
    },
    "kernelspec": {
      "name": "python3",
      "display_name": "Python 3"
    },
    "language_info": {
      "name": "python"
    }
  },
  "cells": [
    {
      "cell_type": "markdown",
      "source": [
        "# Lord of the Rings Spanner Graph Demo"
      ],
      "metadata": {
        "id": "maQbhBTBQOBV"
      }
    },
    {
      "cell_type": "markdown",
      "source": [
        "## Initial setup"
      ],
      "metadata": {
        "id": "u8g7oaTaQZn0"
      }
    },
    {
      "cell_type": "code",
      "source": [
        "!git clone https://github.com/cloudspannerecosystem/spanner-graph-notebook"
      ],
      "metadata": {
        "collapsed": true,
        "id": "ukBFvFmUFZrU"
      },
      "execution_count": null,
      "outputs": []
    },
    {
      "cell_type": "code",
      "source": [
        "cd spanner-graph-notebook"
      ],
      "metadata": {
        "id": "VBQr6Q_4QmSW"
      },
      "execution_count": null,
      "outputs": []
    },
    {
      "cell_type": "code",
      "source": [
        "!pip install ."
      ],
      "metadata": {
        "collapsed": true,
        "id": "jOsuSpLcQ0sY"
      },
      "execution_count": null,
      "outputs": []
    },
    {
      "cell_type": "code",
      "source": [
        "%load_ext spanner_graphs"
      ],
      "metadata": {
        "id": "hvCK6zteQ5mi"
      },
      "execution_count": null,
      "outputs": []
    },
    {
      "cell_type": "code",
      "source": [
        "!gcloud auth application-default login"
      ],
      "metadata": {
        "id": "5hExQO_9GdLu",
        "collapsed": true
      },
      "execution_count": null,
      "outputs": []
    },
    {
      "cell_type": "markdown",
      "source": [
        "## Spanner configuration"
      ],
      "metadata": {
        "id": "_MCm0zGbRROc"
      }
    },
    {
      "cell_type": "code",
      "source": [
        "PROJECT = \"mh-test-lor-5\" # @param\n",
        "INSTANCE = \"graph-demo\" # @param\n",
        "DATABASE = \"lor_graph_db\" # @param"
      ],
      "metadata": {
        "id": "SuwafV9CG0IW",
        "cellView": "form"
      },
      "execution_count": null,
      "outputs": []
    },
    {
      "cell_type": "markdown",
      "source": [
        "## Person references graph"
      ],
      "metadata": {
        "id": "DnmxJjnTRo8l"
      }
    },
    {
      "cell_type": "markdown",
      "source": [
        "This graph draws direct relations for a given Character. Relation strength represent how frequent has been the interacion between characters. Incresing this value will show less nodes."
      ],
      "metadata": {
        "id": "oVGbejx5SUP5"
      }
    },
    {
      "cell_type": "code",
      "source": [
        "persons = {'Aragorn':'arag', 'Arathorn':'arat', 'Arwen':'arwe', 'Balin':'bali', 'Beregond':'bere', 'Bilbo':'bilb', 'Bill':'bill', 'Boromir':'boro', 'Celeborn':'cele', 'Company':'comp', 'Denethor':'dene', 'Durin':'duri', 'Dwarves':'dwar', 'Elendil':'elen', 'Elrond':'elro', 'Elves':'elve', 'Ents':'ents', 'Éomer':'eome', 'Eorl':'eorl', 'Éowyn':'eowy', 'Faramir':'fara', 'Frodo':'frod', 'Galadriel':'gala', 'Gandalf':'ganda', 'Goldberry':'gber', 'Gildor':'gild', 'Gimli':'gimli', 'Glóin':'gloi', 'Glorfindel':'glorf', 'Gollum':'goll', 'Gorbag':'gorb', 'Wormtongue':'grim', 'Haldir':'hald', 'Hobbits':'hobb', 'Isildur':'isil', 'Legolas':'lego', 'Merry':'merr', 'Nine Riders':'nazg', 'Orcs':'orcs', 'Pippin':'pipp', 'Ring':'ring', 'Sam':'sams', 'Saruman':'saru', 'Sauron':'saur', 'Shadowfax':'sfax', 'Shelob':'shel', 'Théoden':'theod', 'Thorin':'thor', 'Thráin':'thra', 'Bombadil':'tomb', 'Treebeard':'treeb'}\n",
        "places = {'Anduin':'andu', 'Bag End':'bage', 'Bree':'bree', 'Dark Tower':'dtow', 'Edoras':'edor', 'Gondor':'gond', 'Helm':'helm', 'Hobbiton':'hton', 'Isengard':'isen', 'Lórien':'lori', 'Lothlórien':'loth', 'Mount Doom':'mdoo', 'Mirkwood':'mirk', 'Mordor':'mord', 'Morgul':'morg', 'Moria':'mori', 'Númenor':'nume', 'Old Forest':'oldf', 'Orthanc':'orth', 'Osgiliath':'osgi', 'Rivendell':'rive', 'Rohan':'roha', 'Shire':'shir', 'Minas Tirith':'tiri'}"
      ],
      "metadata": {
        "id": "h4aLWou8ZD2s"
      },
      "execution_count": null,
      "outputs": []
    },
    {
      "cell_type": "code",
      "source": [
        "PERSON = \"Aragorn\" #@param ['Aragorn', 'Arathorn', 'Arwen', 'Balin', 'Beregond', 'Bilbo', 'Bill', 'Boromir', 'Celeborn', 'Company', 'Denethor', 'Durin', 'Dwarves', 'Elendil', 'Elrond', 'Elves', 'Ents', 'Éomer', 'Eorl', 'Éowyn', 'Faramir', 'Frodo', 'Galadriel', 'Gandalf', 'Goldberry', 'Gildor', 'Gimli', 'Glóin', 'Glorfindel', 'Gollum', 'Gorbag', 'Wormtongue', 'Haldir', 'Hobbits', 'Isildur', 'Legolas', 'Merry', 'Nine Riders', 'Orcs', 'Pippin', 'Ring', 'Sam', 'Saruman', 'Sauron', 'Shadowfax', 'Shelob', 'Théoden', 'Thorin', 'Thráin', 'Bombadil', 'Treebeard']\n",
        "RELATION_STRENGTH = 9 # @param {type:\"slider\", min:1, max:533, step:1}\n"
      ],
      "metadata": {
        "id": "9cVTiBrERQ_M",
        "cellView": "form"
      },
      "execution_count": null,
      "outputs": []
    },
    {
      "cell_type": "code",
      "source": [
        "query = f'''\n",
        "GRAPH LoRGraph\n",
        "MATCH query_path = (p1:Persons)-[ref:Reference]->(p2:Persons)\n",
        "WHERE ref.times > {RELATION_STRENGTH}\n",
        "AND p1.id='{persons[PERSON]}' OR p2.id='{persons[PERSON]}'\n",
        "RETURN TO_JSON(query_path) AS path_json\n",
        "'''\n",
        "\n",
        "print(query)"
      ],
      "metadata": {
        "id": "xqVagQzCSw0_"
      },
      "execution_count": null,
      "outputs": []
    },
    {
      "cell_type": "markdown",
      "source": [
        "Copy the query above and paste into the cell below:\n"
      ],
      "metadata": {
        "id": "EszgOBcFRz2i"
      }
    },
    {
      "cell_type": "code",
      "source": [
        "%%spanner_graph --project {PROJECT} --instance {INSTANCE} --database {DATABASE}\n",
        "\n",
        "GRAPH LoRGraph\n",
        "MATCH query_path = (p1:Persons)-[ref:Reference]->(p2:Persons)\n",
        "WHERE ref.times > 9\n",
        "AND p1.id='arag' OR p2.id='arag'\n",
        "RETURN TO_JSON(query_path) AS path_json\n"
      ],
      "metadata": {
        "id": "3YfrFkxxHBlG"
      },
      "execution_count": null,
      "outputs": []
    },
    {
      "cell_type": "markdown",
      "source": [
        "## Persons and places graph"
      ],
      "metadata": {
        "id": "0Pa15Oh-Srxz"
      }
    },
    {
      "cell_type": "markdown",
      "source": [
        "This graph adds places to the query, so each character is required to have been in one of those places."
      ],
      "metadata": {
        "id": "8WSXgAE4XjFn"
      }
    },
    {
      "cell_type": "code",
      "source": [
        "Mordor = True # @param {type:\"boolean\"}\n",
        "Helm = True # @param {type:\"boolean\"}\n",
        "Mount_Doom = True # @param {type:\"boolean\"}\n",
        "Rivendell  = True # @param {type:\"boolean\"}\n",
        "Rohan  = True # @param {type:\"boolean\"}\n",
        "Minas_Tirith  = True # @param {type:\"boolean\"}\n",
        "Dark_Tower = True # @param {type:\"boolean\"}\n",
        "Isengard = True # @param {type:\"boolean\"}\n",
        "\n",
        "places_list =''\n",
        "if(Mordor) :\n",
        "  places_list += '\\'' + places['Mordor'] + '\\','\n",
        "if(Helm) :\n",
        "  places_list += '\\'' + places['Helm'] + '\\','\n",
        "if(Mount_Doom) :\n",
        "  places_list += '\\'' + places['Mount Doom'] + '\\','\n",
        "if(Rivendell) :\n",
        "  places_list += '\\'' + places['Rivendell'] + '\\','\n",
        "if(Rohan) :\n",
        "  places_list += '\\'' + places['Rohan'] + '\\','\n",
        "if(Minas_Tirith) :\n",
        "  places_list += '\\'' + places['Minas Tirith'] + '\\','\n",
        "if(Dark_Tower) :\n",
        "  places_list += '\\'' + places['Dark Tower'] + '\\','\n",
        "if(Isengard) :\n",
        "  places_list += '\\'' + places['Isengard'] + '\\','\n",
        "places_list = places_list[:len(places_list)-1]\n"
      ],
      "metadata": {
        "id": "yiqb4GH2hr62"
      },
      "execution_count": null,
      "outputs": []
    },
    {
      "cell_type": "code",
      "source": [
        "query = f'''GRAPH LoRGraph\n",
        "MATCH query_path = (p1:Persons)-[ref:Reference]->(p2:Persons)\n",
        "WHERE ref.times > {RELATION_STRENGTH}\n",
        "AND p1.id='{persons[PERSON]}' OR p2.id='{persons[PERSON]}'\n",
        "RETURN p1, p2, ref\n",
        "NEXT\n",
        "MATCH (p1:Persons)-[placeRef1:PlacesPersons]->(place:Places)\n",
        "MATCH (p2:Persons)-[placeRef2:PlacesPersons]->(place:Places)\n",
        "WHERE place.id IN ({places_list})\n",
        "RETURN TO_JSON(p1) AS p1, TO_JSON(p2) AS p2, TO_JSON(place) AS place, TO_JSON(ref) AS ref, TO_JSON(placeRef1) AS placeRef1, TO_JSON(placeRef2) AS placeRef2\n",
        "'''\n",
        "\n",
        "print(query)"
      ],
      "metadata": {
        "id": "KyCK1_sMiHVE"
      },
      "execution_count": null,
      "outputs": []
    },
    {
      "cell_type": "markdown",
      "source": [
        "Copy the query above and paste into the cell below:"
      ],
      "metadata": {
        "id": "8i24ae1eS8YB"
      }
    },
    {
      "cell_type": "code",
      "source": [
        "%%spanner_graph --project {PROJECT} --instance {INSTANCE} --database {DATABASE}\n",
        "\n",
        "GRAPH LoRGraph\n",
        "MATCH query_path = (p1:Persons)-[ref:Reference]->(p2:Persons)\n",
        "WHERE ref.times > 9\n",
        "AND p1.id='arag' OR p2.id='arag'\n",
        "RETURN p1, p2, ref\n",
        "NEXT\n",
        "MATCH (p1:Persons)-[placeRef1:PlacesPersons]->(place:Places)\n",
        "MATCH (p2:Persons)-[placeRef2:PlacesPersons]->(place:Places)\n",
        "WHERE place.id IN ('mord','helm','mdoo','rive','roha','tiri','dtow','isen')\n",
        "RETURN TO_JSON(p1) AS p1, TO_JSON(p2) AS p2, TO_JSON(place) AS place, TO_JSON(ref) AS ref, TO_JSON(placeRef1) AS placeRef1, TO_JSON(placeRef2) AS placeRef2\n"
      ],
      "metadata": {
        "id": "l6sQC5PTOvG8"
      },
      "execution_count": null,
      "outputs": []
    }
  ]
}