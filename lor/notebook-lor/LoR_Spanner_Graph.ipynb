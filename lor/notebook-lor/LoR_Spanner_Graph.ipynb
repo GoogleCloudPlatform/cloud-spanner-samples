{
  "cells": [
    {
      "cell_type": "code",
      "execution_count": null,
      "metadata": {},
      "outputs": [],
      "source": [
        "# Copyright 2021 Google LLC\n",
        "#\n",
        "# Licensed under the Apache License, Version 2.0 (the \"License\");\n",
        "# you may not use this file except in compliance with the License.\n",
        "# You may obtain a copy of the License at\n",
        "#\n",
        "#     https://www.apache.org/licenses/LICENSE-2.0\n",
        "#\n",
        "# Unless required by applicable law or agreed to in writing, software\n",
        "# distributed under the License is distributed on an \"AS IS\" BASIS,\n",
        "# WITHOUT WARRANTIES OR CONDITIONS OF ANY KIND, either express or implied.\n",
        "# See the License for the specific language governing permissions and\n",
        "# limitations under the License.\n",
        "#\n",
        "# A convenience script to help developers easily set up emulator, finapp server\n",
        "# and workload."
      ]
    },
    {
      "cell_type": "markdown",
      "metadata": {
        "id": "maQbhBTBQOBV"
      },
      "source": [
        "# Lord of the Rings Spanner Graph Demo"
      ]
    },
    {
      "cell_type": "markdown",
      "metadata": {
        "id": "u8g7oaTaQZn0"
      },
      "source": [
        "## Initial setup"
      ]
    },
    {
      "cell_type": "code",
      "execution_count": null,
      "metadata": {
        "collapsed": true,
        "id": "ukBFvFmUFZrU"
      },
      "outputs": [],
      "source": [
        "!git clone https://github.com/cloudspannerecosystem/spanner-graph-notebook"
      ]
    },
    {
      "cell_type": "code",
      "execution_count": null,
      "metadata": {
        "id": "VBQr6Q_4QmSW"
      },
      "outputs": [],
      "source": [
        "cd spanner-graph-notebook"
      ]
    },
    {
      "cell_type": "code",
      "execution_count": null,
      "metadata": {
        "collapsed": true,
        "id": "jOsuSpLcQ0sY"
      },
      "outputs": [],
      "source": [
        "!pip install ."
      ]
    },
    {
      "cell_type": "code",
      "execution_count": null,
      "metadata": {
        "id": "hvCK6zteQ5mi"
      },
      "outputs": [],
      "source": [
        "%load_ext spanner_graphs"
      ]
    },
    {
      "cell_type": "code",
      "execution_count": null,
      "metadata": {
        "collapsed": true,
        "id": "5hExQO_9GdLu"
      },
      "outputs": [],
      "source": [
        "!gcloud auth application-default login"
      ]
    },
    {
      "cell_type": "markdown",
      "metadata": {
        "id": "_MCm0zGbRROc"
      },
      "source": [
        "## Spanner configuration"
      ]
    },
    {
      "cell_type": "code",
      "execution_count": null,
      "metadata": {
        "cellView": "form",
        "id": "SuwafV9CG0IW"
      },
      "outputs": [],
      "source": [
        "PROJECT = \"mh-test-lor-5\" # @param\n",
        "INSTANCE = \"graph-demo\" # @param\n",
        "DATABASE = \"lor_graph_db\" # @param"
      ]
    },
    {
      "cell_type": "markdown",
      "metadata": {
        "id": "DnmxJjnTRo8l"
      },
      "source": [
        "## Person references graph"
      ]
    },
    {
      "cell_type": "markdown",
      "metadata": {
        "id": "oVGbejx5SUP5"
      },
      "source": [
        "This graph draws direct relations for a given Character. Relation strength represent how frequent has been the interacion between characters. Incresing this value will show less nodes."
      ]
    },
    {
      "cell_type": "code",
      "execution_count": null,
      "metadata": {
        "id": "h4aLWou8ZD2s"
      },
      "outputs": [],
      "source": [
        "persons = {'Aragorn':'arag', 'Arathorn':'arat', 'Arwen':'arwe', 'Balin':'bali', 'Beregond':'bere', 'Bilbo':'bilb', 'Bill':'bill', 'Boromir':'boro', 'Celeborn':'cele', 'Company':'comp', 'Denethor':'dene', 'Durin':'duri', 'Dwarves':'dwar', 'Elendil':'elen', 'Elrond':'elro', 'Elves':'elve', 'Ents':'ents', 'Éomer':'eome', 'Eorl':'eorl', 'Éowyn':'eowy', 'Faramir':'fara', 'Frodo':'frod', 'Galadriel':'gala', 'Gandalf':'ganda', 'Goldberry':'gber', 'Gildor':'gild', 'Gimli':'gimli', 'Glóin':'gloi', 'Glorfindel':'glorf', 'Gollum':'goll', 'Gorbag':'gorb', 'Wormtongue':'grim', 'Haldir':'hald', 'Hobbits':'hobb', 'Isildur':'isil', 'Legolas':'lego', 'Merry':'merr', 'Nine Riders':'nazg', 'Orcs':'orcs', 'Pippin':'pipp', 'Ring':'ring', 'Sam':'sams', 'Saruman':'saru', 'Sauron':'saur', 'Shadowfax':'sfax', 'Shelob':'shel', 'Théoden':'theod', 'Thorin':'thor', 'Thráin':'thra', 'Bombadil':'tomb', 'Treebeard':'treeb'}\n",
        "places = {'Anduin':'andu', 'Bag End':'bage', 'Bree':'bree', 'Dark Tower':'dtow', 'Edoras':'edor', 'Gondor':'gond', 'Helm':'helm', 'Hobbiton':'hton', 'Isengard':'isen', 'Lórien':'lori', 'Lothlórien':'loth', 'Mount Doom':'mdoo', 'Mirkwood':'mirk', 'Mordor':'mord', 'Morgul':'morg', 'Moria':'mori', 'Númenor':'nume', 'Old Forest':'oldf', 'Orthanc':'orth', 'Osgiliath':'osgi', 'Rivendell':'rive', 'Rohan':'roha', 'Shire':'shir', 'Minas Tirith':'tiri'}"
      ]
    },
    {
      "cell_type": "code",
      "execution_count": null,
      "metadata": {
        "cellView": "form",
        "id": "9cVTiBrERQ_M"
      },
      "outputs": [],
      "source": [
        "PERSON = \"Aragorn\" #@param ['Aragorn', 'Arathorn', 'Arwen', 'Balin', 'Beregond', 'Bilbo', 'Bill', 'Boromir', 'Celeborn', 'Company', 'Denethor', 'Durin', 'Dwarves', 'Elendil', 'Elrond', 'Elves', 'Ents', 'Éomer', 'Eorl', 'Éowyn', 'Faramir', 'Frodo', 'Galadriel', 'Gandalf', 'Goldberry', 'Gildor', 'Gimli', 'Glóin', 'Glorfindel', 'Gollum', 'Gorbag', 'Wormtongue', 'Haldir', 'Hobbits', 'Isildur', 'Legolas', 'Merry', 'Nine Riders', 'Orcs', 'Pippin', 'Ring', 'Sam', 'Saruman', 'Sauron', 'Shadowfax', 'Shelob', 'Théoden', 'Thorin', 'Thráin', 'Bombadil', 'Treebeard']\n",
        "RELATION_STRENGTH = 9 # @param {type:\"slider\", min:1, max:533, step:1}\n"
      ]
    },
    {
      "cell_type": "code",
      "execution_count": null,
      "metadata": {
        "id": "xqVagQzCSw0_"
      },
      "outputs": [],
      "source": [
        "query = f'''\n",
        "GRAPH LoRGraph\n",
        "MATCH query_path = (p1:Persons)-[ref:Reference]->(p2:Persons)\n",
        "WHERE ref.times > {RELATION_STRENGTH}\n",
        "AND p1.id='{persons[PERSON]}' OR p2.id='{persons[PERSON]}'\n",
        "RETURN TO_JSON(query_path) AS path_json\n",
        "'''\n",
        "\n",
        "print(query)"
      ]
    },
    {
      "cell_type": "markdown",
      "metadata": {
        "id": "EszgOBcFRz2i"
      },
      "source": [
        "Copy the query above and paste into the cell below:\n"
      ]
    },
    {
      "cell_type": "code",
      "execution_count": null,
      "metadata": {
        "id": "3YfrFkxxHBlG"
      },
      "outputs": [],
      "source": [
        "%%spanner_graph --project {PROJECT} --instance {INSTANCE} --database {DATABASE}\n",
        "\n",
        "GRAPH LoRGraph\n",
        "MATCH query_path = (p1:Persons)-[ref:Reference]->(p2:Persons)\n",
        "WHERE ref.times > 9\n",
        "AND p1.id='arag' OR p2.id='arag'\n",
        "RETURN TO_JSON(query_path) AS path_json\n"
      ]
    },
    {
      "cell_type": "markdown",
      "metadata": {
        "id": "0Pa15Oh-Srxz"
      },
      "source": [
        "## Persons and places graph"
      ]
    },
    {
      "cell_type": "markdown",
      "metadata": {
        "id": "8WSXgAE4XjFn"
      },
      "source": [
        "This graph adds places to the query, so each character is required to have been in one of those places."
      ]
    },
    {
      "cell_type": "code",
      "execution_count": null,
      "metadata": {
        "id": "yiqb4GH2hr62"
      },
      "outputs": [],
      "source": [
        "Mordor = True # @param {type:\"boolean\"}\n",
        "Helm = True # @param {type:\"boolean\"}\n",
        "Mount_Doom = True # @param {type:\"boolean\"}\n",
        "Rivendell  = True # @param {type:\"boolean\"}\n",
        "Rohan  = True # @param {type:\"boolean\"}\n",
        "Minas_Tirith  = True # @param {type:\"boolean\"}\n",
        "Dark_Tower = True # @param {type:\"boolean\"}\n",
        "Isengard = True # @param {type:\"boolean\"}\n",
        "\n",
        "places_list =''\n",
        "if(Mordor) :\n",
        "  places_list += '\\'' + places['Mordor'] + '\\','\n",
        "if(Helm) :\n",
        "  places_list += '\\'' + places['Helm'] + '\\','\n",
        "if(Mount_Doom) :\n",
        "  places_list += '\\'' + places['Mount Doom'] + '\\','\n",
        "if(Rivendell) :\n",
        "  places_list += '\\'' + places['Rivendell'] + '\\','\n",
        "if(Rohan) :\n",
        "  places_list += '\\'' + places['Rohan'] + '\\','\n",
        "if(Minas_Tirith) :\n",
        "  places_list += '\\'' + places['Minas Tirith'] + '\\','\n",
        "if(Dark_Tower) :\n",
        "  places_list += '\\'' + places['Dark Tower'] + '\\','\n",
        "if(Isengard) :\n",
        "  places_list += '\\'' + places['Isengard'] + '\\','\n",
        "places_list = places_list[:len(places_list)-1]\n"
      ]
    },
    {
      "cell_type": "code",
      "execution_count": null,
      "metadata": {
        "id": "KyCK1_sMiHVE"
      },
      "outputs": [],
      "source": [
        "query = f'''GRAPH LoRGraph\n",
        "MATCH query_path = (p1:Persons)-[ref:Reference]->(p2:Persons)\n",
        "WHERE ref.times > {RELATION_STRENGTH}\n",
        "AND p1.id='{persons[PERSON]}' OR p2.id='{persons[PERSON]}'\n",
        "RETURN p1, p2, ref\n",
        "NEXT\n",
        "MATCH (p1:Persons)-[placeRef1:PlacesPersons]->(place:Places)\n",
        "MATCH (p2:Persons)-[placeRef2:PlacesPersons]->(place:Places)\n",
        "WHERE place.id IN ({places_list})\n",
        "RETURN TO_JSON(p1) AS p1, TO_JSON(p2) AS p2, TO_JSON(place) AS place, TO_JSON(ref) AS ref, TO_JSON(placeRef1) AS placeRef1, TO_JSON(placeRef2) AS placeRef2\n",
        "'''\n",
        "\n",
        "print(query)"
      ]
    },
    {
      "cell_type": "markdown",
      "metadata": {
        "id": "8i24ae1eS8YB"
      },
      "source": [
        "Copy the query above and paste into the cell below:"
      ]
    },
    {
      "cell_type": "code",
      "execution_count": null,
      "metadata": {
        "id": "l6sQC5PTOvG8"
      },
      "outputs": [],
      "source": [
        "%%spanner_graph --project {PROJECT} --instance {INSTANCE} --database {DATABASE}\n",
        "\n",
        "GRAPH LoRGraph\n",
        "MATCH query_path = (p1:Persons)-[ref:Reference]->(p2:Persons)\n",
        "WHERE ref.times > 9\n",
        "AND p1.id='arag' OR p2.id='arag'\n",
        "RETURN p1, p2, ref\n",
        "NEXT\n",
        "MATCH (p1:Persons)-[placeRef1:PlacesPersons]->(place:Places)\n",
        "MATCH (p2:Persons)-[placeRef2:PlacesPersons]->(place:Places)\n",
        "WHERE place.id IN ('mord','helm','mdoo','rive','roha','tiri','dtow','isen')\n",
        "RETURN TO_JSON(p1) AS p1, TO_JSON(p2) AS p2, TO_JSON(place) AS place, TO_JSON(ref) AS ref, TO_JSON(placeRef1) AS placeRef1, TO_JSON(placeRef2) AS placeRef2\n"
      ]
    }
  ],
  "metadata": {
    "colab": {
      "provenance": []
    },
    "kernelspec": {
      "display_name": "Python 3",
      "name": "python3"
    },
    "language_info": {
      "name": "python"
    }
  },
  "nbformat": 4,
  "nbformat_minor": 0
}
